{
 "cells": [
  {
   "cell_type": "markdown",
   "metadata": {},
   "source": [
    "## Laboratorio 10 - Algoritmos Genéticos\n",
    "\n",
    "Stefano Aragoni, Luis Diego Santos, Carol Arevalo"
   ]
  },
  {
   "cell_type": "markdown",
   "metadata": {},
   "source": [
    "Para este ejercicio, hemos decidido trabajar con Algoritmos Genéticos aplicados a un problema de Ruteo de Vehículos (VRP). A continuación, se presenta el código segmentado y explicado en diferentes partes para cumplir con los requerimientos del laboratorio."
   ]
  },
  {
   "cell_type": "markdown",
   "metadata": {},
   "source": [
    "____\n",
    "#### Importación de Librerías"
   ]
  },
  {
   "cell_type": "code",
   "execution_count": 1,
   "metadata": {},
   "outputs": [],
   "source": [
    "import random\n",
    "from deap import base, creator, tools, algorithms\n",
    "import numpy as np\n",
    "import matplotlib.pyplot as plt\n"
   ]
  },
  {
   "cell_type": "markdown",
   "metadata": {},
   "source": [
    "____\n",
    "#### Definición de Clases Base y Parámetros del Problema"
   ]
  },
  {
   "cell_type": "markdown",
   "metadata": {},
   "source": [
    "En esta sección, creamos las clases base para nuestro problema utilizando deap. Esta librería nos permite crear algoritmos genéticos de manera sencilla y eficiente.\n",
    "\n",
    "Definimos también los parámetros específicos de nuestro problema de ruteo de vehículos, como la ubicación del depósito, los clientes, las distancias entre ellos y la capacidad del vehículo."
   ]
  },
  {
   "cell_type": "code",
   "execution_count": 2,
   "metadata": {},
   "outputs": [],
   "source": [
    "creator.create(\"FitnessMin\", base.Fitness, weights=(-1.0,))\n",
    "creator.create(\"Individual\", list, fitness=creator.FitnessMin)\n",
    "\n",
    "toolbox = base.Toolbox()\n",
    "\n",
    "depot = 0\n",
    "customers = [(1, 4), (2, 6), (3, 3), (4, 2), (5, 6)]\n",
    "distances = [\n",
    "    [0, 2.8, 4.5, 7.2, 5.4, 8.4],\n",
    "    [2.8, 0, 3.7, 4.4, 7.9, 5.3],\n",
    "    [4.5, 3.7, 0, 2.8, 4.6, 2.2],\n",
    "    [7.2, 4.4, 2.8, 0, 5.0, 2.5],\n",
    "    [5.4, 7.9, 4.6, 5.0, 0, 4.2],\n",
    "    [8.4, 5.3, 2.2, 2.5, 4.2, 0]\n",
    "]\n",
    "vehicle_capacity = 10\n"
   ]
  },
  {
   "cell_type": "markdown",
   "metadata": {},
   "source": [
    "<font color='orange'>Función Objetivo/Fitness/Aptitud </font>"
   ]
  },
  {
   "cell_type": "code",
   "execution_count": 3,
   "metadata": {},
   "outputs": [],
   "source": [
    "def evaluate_individual(individual):\n",
    "    total_distance = 0\n",
    "    current_demand = 0\n",
    "    current_depot = depot\n",
    "    \n",
    "    for customer in individual:\n",
    "        if customer == depot:\n",
    "            current_demand = 0\n",
    "            continue\n",
    "        total_distance += distances[current_depot][customer]\n",
    "        current_demand += customers[customer-1][1]\n",
    "        if current_demand > vehicle_capacity:\n",
    "            total_distance += distances[customer][depot]\n",
    "            current_depot = depot\n",
    "            current_demand = 0\n",
    "    total_distance += distances[customer][depot]\n",
    "    return total_distance,"
   ]
  },
  {
   "cell_type": "code",
   "execution_count": 4,
   "metadata": {},
   "outputs": [],
   "source": [
    "def init_individual():\n",
    "    individual = [depot] + random.sample(range(1, len(customers) + 1), len(customers))\n",
    "    return creator.Individual(individual)\n"
   ]
  },
  {
   "cell_type": "markdown",
   "metadata": {},
   "source": [
    "La función init_individual inicializa un individuo de manera aleatoria, mientras que evaluate_individual calcula la distancia total recorrida por un vehículo, teniendo en cuenta la capacidad del mismo."
   ]
  },
  {
   "cell_type": "markdown",
   "metadata": {},
   "source": [
    "#### Registro de Operadores Genéticos y Configuración del Algoritmo"
   ]
  },
  {
   "cell_type": "markdown",
   "metadata": {},
   "source": [
    "Registramos los operadores gen  éticos y las funciones que hemos definido anteriormente en el toolbox. También configuramos los parámetros del algoritmo genético, como el tamaño de la población, el número de generaciones, y las probabilidades de cruzamiento y mutación."
   ]
  },
  {
   "cell_type": "markdown",
   "metadata": {},
   "source": [
    "A continuación se encuentran la <font color='orange'>función de Selección,  función de Crossover y función de Mutación </font>"
   ]
  },
  {
   "cell_type": "code",
   "execution_count": 5,
   "metadata": {},
   "outputs": [],
   "source": [
    "toolbox.register(\"individual\", tools.initIterate, creator.Individual, init_individual)\n",
    "toolbox.register(\"population\", tools.initRepeat, list, toolbox.individual)\n",
    "toolbox.register(\"evaluate\", evaluate_individual)\n",
    "toolbox.register(\"mate\", tools.cxPartialyMatched)                   # crossover\n",
    "toolbox.register(\"mutate\", tools.mutShuffleIndexes, indpb=0.05)     # mutation\n",
    "toolbox.register(\"select\", tools.selTournament, tournsize=3)        # selection\n",
    "\n",
    "population_size = 100\n",
    "num_generations = 100\n",
    "cxpb = 0.8\n",
    "mutpb = 0.2\n",
    "\n",
    "population = toolbox.population(n=population_size)\n"
   ]
  },
  {
   "cell_type": "markdown",
   "metadata": {},
   "source": [
    "_____\n",
    "#### Ejecución del Algoritmo Genético y Resultados"
   ]
  },
  {
   "cell_type": "markdown",
   "metadata": {},
   "source": [
    "Finalmente, ejecutamos el algoritmo genético, recopilamos estadísticas durante la ejecución y mostramos los resultados finales, incluyendo la mejor solución encontrada y su respectiva distancia total."
   ]
  },
  {
   "cell_type": "markdown",
   "metadata": {},
   "source": [
    "A continuación se encuentra la <font color='orange'>función de Ejecución</font>"
   ]
  },
  {
   "cell_type": "code",
   "execution_count": 6,
   "metadata": {},
   "outputs": [
    {
     "name": "stdout",
     "output_type": "stream",
     "text": [
      "gen\tnevals\tmin \tavg   \n",
      "0  \t100   \t35.6\t40.061\n",
      "1  \t77    \t35.5\t38.82 \n",
      "2  \t82    \t35.6\t37.655\n",
      "3  \t81    \t35.6\t37.031\n",
      "4  \t81    \t35.6\t36.184\n",
      "5  \t77    \t35.6\t36.234\n",
      "6  \t86    \t35.5\t36.006\n",
      "7  \t81    \t32.8\t35.715\n",
      "8  \t86    \t32.8\t35.667\n",
      "9  \t83    \t32.8\t35.174\n",
      "10 \t86    \t32.8\t34.234\n",
      "11 \t89    \t32.8\t33.166\n",
      "12 \t73    \t32.8\t32.963\n",
      "13 \t85    \t32.8\t32.867\n",
      "14 \t92    \t32.8\t32.863\n",
      "15 \t83    \t32.8\t32.827\n",
      "16 \t77    \t32.8\t32.989\n",
      "17 \t88    \t32.8\t32.837\n",
      "18 \t89    \t32.8\t33.202\n",
      "19 \t89    \t32.8\t32.983\n",
      "20 \t85    \t32.8\t32.917\n",
      "21 \t82    \t32.8\t32.949\n",
      "22 \t85    \t32.8\t33.077\n",
      "23 \t86    \t32.8\t33.049\n",
      "24 \t74    \t32.8\t32.985\n",
      "25 \t85    \t32.8\t32.884\n",
      "26 \t88    \t32.8\t33.196\n",
      "27 \t84    \t32.8\t32.945\n",
      "28 \t89    \t31.1\t32.783\n",
      "29 \t88    \t31.1\t32.981\n",
      "30 \t89    \t32.8\t33.161\n",
      "31 \t92    \t32.8\t32.974\n",
      "32 \t89    \t32.8\t32.882\n",
      "33 \t79    \t32.8\t32.992\n",
      "34 \t73    \t32.8\t32.911\n",
      "35 \t87    \t32.8\t32.893\n",
      "36 \t84    \t32.8\t32.974\n",
      "37 \t90    \t32.8\t32.856\n",
      "38 \t90    \t32.8\t32.883\n",
      "39 \t84    \t32.8\t32.939\n",
      "40 \t84    \t32.8\t32.953\n",
      "41 \t76    \t32.8\t33.011\n",
      "42 \t80    \t32.8\t32.867\n",
      "43 \t79    \t32.8\t32.974\n",
      "44 \t88    \t31.1\t32.882\n",
      "45 \t88    \t31.1\t32.856\n",
      "46 \t84    \t31.1\t32.726\n",
      "47 \t76    \t31.1\t32.593\n",
      "48 \t91    \t31.1\t32.329\n",
      "49 \t78    \t31.1\t31.533\n",
      "50 \t90    \t31.1\t31.395\n",
      "51 \t89    \t31.1\t31.173\n",
      "52 \t79    \t31.1\t31.162\n"
     ]
    },
    {
     "name": "stdout",
     "output_type": "stream",
     "text": [
      "53 \t88    \t31.1\t31.472\n",
      "54 \t84    \t31.1\t31.328\n",
      "55 \t76    \t31.1\t31.284\n",
      "56 \t80    \t31.1\t31.341\n",
      "57 \t85    \t31.1\t31.546\n",
      "58 \t82    \t31.1\t31.198\n",
      "59 \t89    \t31.1\t31.227\n",
      "60 \t77    \t31.1\t31.318\n",
      "61 \t87    \t31.1\t31.501\n",
      "62 \t77    \t31.1\t31.61 \n",
      "63 \t80    \t31.1\t31.256\n",
      "64 \t83    \t31.1\t31.61 \n",
      "65 \t92    \t31.1\t31.2  \n",
      "66 \t81    \t31.1\t31.263\n",
      "67 \t74    \t31.1\t31.357\n",
      "68 \t87    \t31.1\t31.269\n",
      "69 \t76    \t31.1\t31.523\n",
      "70 \t82    \t31.1\t31.126\n",
      "71 \t87    \t31.1\t31.301\n",
      "72 \t86    \t31.1\t31.144\n",
      "73 \t78    \t31.1\t31.283\n",
      "74 \t85    \t31.1\t31.171\n",
      "75 \t83    \t31.1\t31.173\n",
      "76 \t89    \t31.1\t31.21 \n",
      "77 \t79    \t31.1\t31.403\n",
      "78 \t87    \t31.1\t31.245\n",
      "79 \t92    \t31.1\t31.329\n",
      "80 \t87    \t31.1\t31.427\n",
      "81 \t93    \t31.1\t31.342\n",
      "82 \t83    \t31.1\t31.207\n",
      "83 \t89    \t31.1\t31.412\n",
      "84 \t90    \t31.1\t31.39 \n",
      "85 \t76    \t31.1\t31.367\n",
      "86 \t78    \t31.1\t31.667\n",
      "87 \t80    \t31.1\t31.577\n",
      "88 \t84    \t31.1\t31.313\n",
      "89 \t82    \t31.1\t31.481\n",
      "90 \t89    \t31.1\t31.433\n",
      "91 \t83    \t31.1\t31.173\n",
      "92 \t82    \t31.1\t31.383\n",
      "93 \t89    \t31.1\t31.21 \n",
      "94 \t86    \t31.1\t31.285\n",
      "95 \t81    \t31.1\t31.386\n",
      "96 \t92    \t31.1\t31.482\n",
      "97 \t82    \t31.1\t31.24 \n",
      "98 \t84    \t31.1\t31.244\n",
      "99 \t84    \t31.1\t31.413\n",
      "100\t86    \t31.1\t31.307\n",
      "Mejor solución encontrada:  [4, 2, 1, 5, 3, 0]\n",
      "Distancia total de la mejor solución:  31.099999999999998\n"
     ]
    }
   ],
   "source": [
    "stats = tools.Statistics(key=lambda ind: ind.fitness.values)\n",
    "stats.register(\"min\", np.min)\n",
    "stats.register(\"avg\", np.mean)\n",
    "\n",
    "population, logbook = algorithms.eaSimple(population, toolbox, cxpb, mutpb, num_generations, stats=stats, verbose=True)\n",
    "\n",
    "best_individual = tools.selBest(population, 1)[0]\n",
    "print(\"Mejor solución encontrada: \", best_individual)\n",
    "print(\"Distancia total de la mejor solución: \", best_individual.fitness.values[0])\n"
   ]
  },
  {
   "cell_type": "markdown",
   "metadata": {},
   "source": [
    "Visualización de la Ruta"
   ]
  },
  {
   "cell_type": "code",
   "execution_count": 8,
   "metadata": {},
   "outputs": [],
   "source": [
    "def plot_route(individual, customers, depot_location=(0, 0), title=\"Funcion Objetivo 1\"):\n",
    "    # Convertir la ruta en coordenadas\n",
    "    route = [depot_location] + [customers[c-1] for c in individual if c != 0] + [depot_location]\n",
    "    route = np.array(route)\n",
    "\n",
    "    # Crear la gráfica\n",
    "    plt.figure(figsize=(10, 6))\n",
    "    plt.plot(route[:, 0], route[:, 1], marker='o', linestyle='-')\n",
    "\n",
    "    # Anotar los clientes y el depósito\n",
    "    for i, (x, y) in enumerate(route):\n",
    "        if i == 0:\n",
    "            label = 'Depot'\n",
    "        else:\n",
    "            label = f'Cliente {individual[i - 1]}'\n",
    "        plt.annotate(label, (x, y), textcoords=\"offset points\", xytext=(0, 10), ha='center')\n",
    "\n",
    "    plt.title('Visualización de la Ruta - ' + title)\n",
    "    plt.xlabel('Coordenada X')\n",
    "    plt.ylabel('Coordenada Y')\n",
    "    plt.grid(True)\n",
    "    plt.show()\n"
   ]
  },
  {
   "cell_type": "code",
   "execution_count": 9,
   "metadata": {},
   "outputs": [
    {
     "data": {
      "image/png": "[encoded data removed]",
      "text/plain": [
       "<Figure size 1000x600 with 1 Axes>"
      ]
     },
     "metadata": {},
     "output_type": "display_data"
    }
   ],
   "source": [
    "# Ejecutar la función de visualización con la mejor solución encontrada\n",
    "plot_route(best_individual, customers, depot_location=(0, 0))"
   ]
  },
  {
   "cell_type": "markdown",
   "metadata": {},
   "source": [
    "Finalmente, cabe destacar que (según la investigación realizada) este problema **NO** es de optimización de funciones. Sino, es un problema de optimización combinatoria, donde el objetivo es encontrar la mejor ruta para visitar un conjunto de clientes con restricciones de capacidad y otras limitaciones.\n",
    "\n",
    "Por tal razón, no es posible utilizar diferentes funciones de fitness para evaluar la calidad de las soluciones. Esto debido a que no es una función matemática que se pueda probar o cambiar, sino es una serie de restricciones que se deben cumplir."
   ]
  },
  {
   "cell_type": "markdown",
   "metadata": {},
   "source": [
    "____\n",
    "#### Conclusión y Observaciones\n",
    "\n",
    "*Resultados*\n",
    "\n",
    "Después de 100 generaciones de evolución, se logró encontrar un conductor apto para realizar la ruta de los clientes. El algoritmo genético ha encontrado una solución óptima o cerca de la óptima para el problema planteado. La mejor solución encontrada tiene una distancia total de aproximadamente 31.1 unidades. Esta solución representa la secuencia de clientes a visitar que minimiza la distancia total recorrida, considerando las restricciones y la capacidad del vehículo.\n",
    "\n",
    "*Observaciones*\n",
    "\n",
    "1. **Convergencia**: Basándonos en los valores mínimos y promedio por generación, se puede observar que el algoritmo converge hacia una solución óptima. Esto es una buena señal de que los operadores genéticos y los parámetros seleccionados están trabajando de manera efectiva.\n",
    "\n",
    "2. **Diversidad**: Aunque el algoritmo está convergiendo, también es importante notar que la diversidad (variedad de soluciones) se mantiene a lo largo de las generaciones. Esto es crucial para evitar caer en óptimos locales y asegurarse de explorar adecuadamente el espacio de soluciones.\n",
    "\n",
    "3. **Selección de Parámetros**: Los parámetros como el tamaño de la población, la probabilidad de cruzamiento (cxpb) y la probabilidad de mutación (mutpb) son cruciales para el desempeño del algoritmo. Una selección adecuada de estos parámetros puede llevar a una convergencia más rápida y a soluciones más precisas.\n",
    "\n",
    "4. **Efectividad de los Operadores Genéticos**: Los operadores de cruzamiento y mutación seleccionados son adecuados para el tipo de codificación y problema abordado. Esto se refleja en la mejora constante de las soluciones a lo largo de las generaciones.\n",
    "\n",
    "5. **Estabilidad**: El algoritmo muestra una tendencia estable hacia la mejora, sin presentar fluctuaciones significativas en el valor de la función objetivo. Esto indica que el equilibrio entre exploración y explotación es adecuado.\n",
    "\n",
    "*Conclusión*\n",
    "\n",
    "El uso de algoritmos genéticos ha demostrado ser una herramienta poderosa para la optimización de problemas complejos y combinatorios. A través de la evolución y selección natural, es posible encontrar soluciones óptimas o cercanas a la óptima de manera eficiente. En este caso particular, se ha aplicado con éxito para optimizar la ruta de un vehículo, minimizando la distancia total recorrida y respetando las restricciones de capacidad.\n",
    "\n",
    "El experimento también destaca la importancia de una buena definición de la función de aptitud, operadores genéticos y parámetros del algoritmo, ya que estos elementos son clave para el éxito de la optimización."
   ]
  },
  {
   "cell_type": "markdown",
   "metadata": {},
   "source": [
    "#### Referencias:"
   ]
  },
  {
   "cell_type": "markdown",
   "metadata": {},
   "source": [
    "1. Science Direct. (2020). ScienceDirect. Sciencedirect. https://sciencedirect.com/topics/engineering/genetic-algorithm.\n",
    "\n",
    "2. Mallawaarachchi, V. (2017). Introduction to Genetic Algorithms — Including Example Code | by Vijini Mallawaarachchi | Towards Data Science. Towardsdatascience. https://towardsdatascience.com/introduction-to-genetic-algorithms-including-example-code-e396e98d8bf3.\n",
    "\n",
    "3. Dimension IA. (s.f.). Algoritmos Genéticos: Qué Son, Cómo Funcionan, Tipos y Cuando Aplicarlos - DimensionIA. Dimensionia. https://dimensionia.com/algortimos-geneticos-que-son-como-funcionan/.\n",
    "\n",
    "4. Cor, S. (2023). Algoritmos Genéticos en la IA - Qué son, Ejemplos y Aplicaciones. Aprendeinformaticas. https://aprendeinformaticas.com/algoritmos-geneticos-que-es/.\n",
    "\n",
    "5. Brownlee, J. (2021). Simple Genetic Algorithm From Scratch. Machinelearningmastery. https://machinelearningmastery.com/simple-genetic-algorithm-from-scratch-in-python/.\n",
    "\n",
    "6. Python Pool. (2020). Mastering Python Genetic Algorithms. Pythonpool. https://pythonpool.com/python-genetic-algorithm/#:~:text=Implementation of a Python Genetic Algorithm 1 Initialization,Crossover .. 5 Mutation .. 6 Repeat .\n"
   ]
  }
 ],
 "metadata": {
  "kernelspec": {
   "display_name": "Python 3",
   "language": "python",
   "name": "python3"
  },
  "language_info": {
   "codemirror_mode": {
    "name": "ipython",
    "version": 3
   },
   "file_extension": ".py",
   "mimetype": "text/x-python",
   "name": "python",
   "nbconvert_exporter": "python",
   "pygments_lexer": "ipython3",
   "version": "3.9.2"
  }
 },
 "nbformat": 4,
 "nbformat_minor": 2
}
