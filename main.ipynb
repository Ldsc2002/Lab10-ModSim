{
 "cells": [
  {
   "cell_type": "markdown",
   "metadata": {},
   "source": [
    "#### Laboratorio 10\n",
    "\n",
    "Stefano Aragoni, Luis Diego Santos, Carol Arevalo"
   ]
  },
  {
   "cell_type": "markdown",
   "metadata": {},
   "source": [
    "Para este ejercicio, hemos decidido trabajar con Algoritmos Genéticos aplicados a un problema de Ruteo de Vehículos (VRP). A continuación, se presenta el código segmentado y explicado en diferentes partes para cumplir con los requerimientos del laboratorio."
   ]
  },
  {
   "cell_type": "markdown",
   "metadata": {},
   "source": [
    "____\n",
    "#### Importación de Librerías"
   ]
  },
  {
   "cell_type": "code",
   "execution_count": 1,
   "metadata": {},
   "outputs": [],
   "source": [
    "import random\n",
    "from deap import base, creator, tools, algorithms\n",
    "import numpy as np\n",
    "import matplotlib.pyplot as plt\n"
   ]
  },
  {
   "cell_type": "markdown",
   "metadata": {},
   "source": [
    "____\n",
    "#### Definición de Clases Base y Parámetros del Problema"
   ]
  },
  {
   "cell_type": "markdown",
   "metadata": {},
   "source": [
    "En esta sección, creamos las clases base para nuestro problema utilizando deap. FitnessMin es una clase para problemas de minimización. Individual representa a un individuo en nuestra población.\n",
    "\n",
    "Definimos también los parámetros específicos de nuestro problema de ruteo de vehículos, como la ubicación del depósito, los clientes, las distancias entre ellos y la capacidad del vehículo."
   ]
  },
  {
   "cell_type": "code",
   "execution_count": 2,
   "metadata": {},
   "outputs": [],
   "source": [
    "creator.create(\"FitnessMin\", base.Fitness, weights=(-1.0,))\n",
    "creator.create(\"Individual\", list, fitness=creator.FitnessMin)\n",
    "\n",
    "toolbox = base.Toolbox()\n",
    "\n",
    "depot = 0\n",
    "customers = [(1, 4), (2, 6), (3, 3), (4, 2), (5, 6)]\n",
    "distances = [\n",
    "    [0, 2.8, 4.5, 7.2, 5.4, 8.4],\n",
    "    [2.8, 0, 3.7, 4.4, 7.9, 5.3],\n",
    "    [4.5, 3.7, 0, 2.8, 4.6, 2.2],\n",
    "    [7.2, 4.4, 2.8, 0, 5.0, 2.5],\n",
    "    [5.4, 7.9, 4.6, 5.0, 0, 4.2],\n",
    "    [8.4, 5.3, 2.2, 2.5, 4.2, 0]\n",
    "]\n",
    "vehicle_capacity = 10\n"
   ]
  },
  {
   "cell_type": "markdown",
   "metadata": {},
   "source": [
    "<font color='orange'>Función Objetivo/Fitness/Aptitud </font>"
   ]
  },
  {
   "cell_type": "code",
   "execution_count": 3,
   "metadata": {},
   "outputs": [],
   "source": [
    "def evaluate_individual(individual):\n",
    "    total_distance = 0\n",
    "    current_demand = 0\n",
    "    current_depot = depot\n",
    "    \n",
    "    for customer in individual:\n",
    "        if customer == depot:\n",
    "            current_demand = 0\n",
    "            continue\n",
    "        total_distance += distances[current_depot][customer]\n",
    "        current_demand += customers[customer-1][1]\n",
    "        if current_demand > vehicle_capacity:\n",
    "            total_distance += distances[customer][depot]\n",
    "            current_depot = depot\n",
    "            current_demand = 0\n",
    "    total_distance += distances[customer][depot]\n",
    "    return total_distance,"
   ]
  },
  {
   "cell_type": "code",
   "execution_count": 4,
   "metadata": {},
   "outputs": [],
   "source": [
    "def init_individual():\n",
    "    individual = [depot] + random.sample(range(1, len(customers) + 1), len(customers))\n",
    "    return creator.Individual(individual)\n"
   ]
  },
  {
   "cell_type": "markdown",
   "metadata": {},
   "source": [
    "La función init_individual inicializa un individuo de manera aleatoria, mientras que evaluate_individual calcula la distancia total recorrida por un vehículo, teniendo en cuenta la capacidad del mismo."
   ]
  },
  {
   "cell_type": "markdown",
   "metadata": {},
   "source": [
    "#### Registro de Operadores Genéticos y Configuración del Algoritmo"
   ]
  },
  {
   "cell_type": "markdown",
   "metadata": {},
   "source": [
    "Registramos los operadores gen  éticos y las funciones que hemos definido anteriormente en el toolbox. También configuramos los parámetros del algoritmo genético, como el tamaño de la población, el número de generaciones, y las probabilidades de cruzamiento y mutación."
   ]
  },
  {
   "cell_type": "markdown",
   "metadata": {},
   "source": [
    "A continuación se encuentran la <font color='orange'>función de Selección,  función de Crossover y función de Mutación </font>"
   ]
  },
  {
   "cell_type": "code",
   "execution_count": 5,
   "metadata": {},
   "outputs": [],
   "source": [
    "toolbox.register(\"individual\", tools.initIterate, creator.Individual, init_individual)\n",
    "toolbox.register(\"population\", tools.initRepeat, list, toolbox.individual)\n",
    "toolbox.register(\"evaluate\", evaluate_individual)\n",
    "toolbox.register(\"mate\", tools.cxPartialyMatched)\n",
    "toolbox.register(\"mutate\", tools.mutShuffleIndexes, indpb=0.05)\n",
    "toolbox.register(\"select\", tools.selTournament, tournsize=3)\n",
    "\n",
    "population_size = 100\n",
    "num_generations = 100\n",
    "cxpb = 0.8\n",
    "mutpb = 0.2\n",
    "\n",
    "population = toolbox.population(n=population_size)\n"
   ]
  },
  {
   "cell_type": "markdown",
   "metadata": {},
   "source": [
    "_____\n",
    "#### Ejecución del Algoritmo Genético y Resultados"
   ]
  },
  {
   "cell_type": "markdown",
   "metadata": {},
   "source": [
    "Finalmente, ejecutamos el algoritmo genético, recopilamos estadísticas durante la ejecución y mostramos los resultados finales, incluyendo la mejor solución encontrada y su respectiva distancia total."
   ]
  },
  {
   "cell_type": "markdown",
   "metadata": {},
   "source": [
    "A continuación se encuentra la <font color='orange'>función de Ejecución</font>"
   ]
  },
  {
   "cell_type": "code",
   "execution_count": 6,
   "metadata": {},
   "outputs": [
    {
     "name": "stdout",
     "output_type": "stream",
     "text": [
      "gen\tnevals\tmin \tavg   \n",
      "0  \t100   \t35.6\t39.711\n",
      "1  \t84    \t33.9\t38.127\n",
      "2  \t84    \t32.8\t36.736\n",
      "3  \t84    \t32.8\t35.847\n",
      "4  \t82    \t32.8\t35.358\n",
      "5  \t82    \t32.8\t34.253\n",
      "6  \t88    \t31.1\t33.87 \n",
      "7  \t87    \t31.1\t33.164\n",
      "8  \t94    \t31.1\t33.158\n",
      "9  \t93    \t31.1\t33.206\n",
      "10 \t82    \t31.1\t32.95 \n",
      "11 \t80    \t31.1\t32.645\n",
      "12 \t73    \t31.1\t32.021\n",
      "13 \t86    \t31.1\t31.777\n",
      "14 \t78    \t31.1\t31.516\n",
      "15 \t82    \t31.1\t31.341\n",
      "16 \t76    \t31.1\t31.291\n",
      "17 \t82    \t31.1\t31.723\n",
      "18 \t87    \t31.1\t31.188\n",
      "19 \t87    \t31.1\t31.1  \n",
      "20 \t78    \t31.1\t31.16 \n",
      "21 \t79    \t31.1\t31.292\n",
      "22 \t81    \t31.1\t31.296\n",
      "23 \t79    \t31.1\t31.21 \n",
      "24 \t86    \t31.1\t31.217\n",
      "25 \t94    \t31.1\t31.232\n",
      "26 \t75    \t31.1\t31.233\n",
      "27 \t86    \t31.1\t31.229\n",
      "28 \t84    \t31.1\t31.1  \n",
      "29 \t86    \t31.1\t31.323\n",
      "30 \t87    \t31.1\t31.173\n",
      "31 \t79    \t31.1\t31.17 \n",
      "32 \t86    \t31.1\t31.358\n",
      "33 \t93    \t31.1\t31.36 \n",
      "34 \t88    \t31.1\t31.525\n",
      "35 \t90    \t31.1\t31.378\n",
      "36 \t78    \t31.1\t31.172\n",
      "37 \t96    \t31.1\t31.308\n",
      "38 \t80    \t31.1\t31.522\n",
      "39 \t78    \t31.1\t31.389\n",
      "40 \t90    \t31.1\t31.447\n",
      "41 \t90    \t31.1\t31.505\n",
      "42 \t80    \t31.1\t31.227\n",
      "43 \t89    \t31.1\t31.343\n",
      "44 \t88    \t31.1\t31.388\n",
      "45 \t91    \t31.1\t31.325\n",
      "46 \t82    \t31.1\t31.481\n",
      "47 \t74    \t31.1\t31.311\n",
      "48 \t87    \t31.1\t31.355\n",
      "49 \t79    \t31.1\t31.144\n",
      "50 \t88    \t31.1\t31.525\n",
      "51 \t85    \t31.1\t31.228\n",
      "52 \t87    \t31.1\t31.296\n",
      "53 \t80    \t31.1\t31.298\n",
      "54 \t98    \t31.1\t31.462\n",
      "55 \t93    \t31.1\t31.145\n",
      "56 \t83    \t31.1\t31.371\n",
      "57 \t78    \t31.1\t31.253\n",
      "58 \t78    \t31.1\t31.23 \n",
      "59 \t77    \t31.1\t31.184\n",
      "60 \t88    \t31.1\t31.241\n",
      "61 \t79    \t31.1\t31.285\n",
      "62 \t96    \t31.1\t31.364\n",
      "63 \t85    \t31.1\t31.627\n",
      "64 \t88    \t31.1\t31.316\n",
      "65 \t86    \t31.1\t31.285\n",
      "66 \t76    \t31.1\t31.643\n",
      "67 \t80    \t31.1\t31.228\n",
      "68 \t88    \t31.1\t31.198\n",
      "69 \t88    \t31.1\t31.245\n",
      "70 \t87    \t31.1\t31.172\n",
      "71 \t76    \t31.1\t31.173\n",
      "72 \t82    \t31.1\t31.198\n",
      "73 \t81    \t31.1\t31.145\n",
      "74 \t85    \t31.1\t31.316\n",
      "75 \t78    \t31.1\t31.321\n",
      "76 \t90    \t31.1\t31.257\n",
      "77 \t84    \t31.1\t31.384\n",
      "78 \t83    \t31.1\t31.338\n",
      "79 \t80    \t31.1\t31.201\n",
      "80 \t85    \t31.1\t31.156\n",
      "81 \t82    \t31.1\t31.262\n",
      "82 \t83    \t31.1\t31.217\n",
      "83 \t76    \t31.1\t31.182\n",
      "84 \t88    \t31.1\t31.413\n",
      "85 \t88    \t31.1\t31.143\n",
      "86 \t87    \t31.1\t31.381\n",
      "87 \t77    \t31.1\t31.381\n",
      "88 \t86    \t31.1\t31.299\n",
      "89 \t89    \t31.1\t31.462\n",
      "90 \t87    \t31.1\t31.328\n",
      "91 \t81    \t31.1\t31.438\n",
      "92 \t90    \t31.1\t31.566\n",
      "93 \t80    \t31.1\t31.173\n",
      "94 \t85    \t31.1\t31.161\n",
      "95 \t84    \t31.1\t31.283\n",
      "96 \t87    \t31.1\t31.581\n",
      "97 \t89    \t31.1\t31.311\n",
      "98 \t84    \t31.1\t31.406\n",
      "99 \t86    \t31.1\t31.432\n",
      "100\t84    \t31.1\t31.27 \n",
      "Mejor solución encontrada:  [4, 2, 1, 5, 3, 0]\n",
      "Distancia total de la mejor solución:  31.099999999999998\n"
     ]
    }
   ],
   "source": [
    "stats = tools.Statistics(key=lambda ind: ind.fitness.values)\n",
    "stats.register(\"min\", np.min)\n",
    "stats.register(\"avg\", np.mean)\n",
    "\n",
    "population, logbook = algorithms.eaSimple(population, toolbox, cxpb, mutpb, num_generations, stats=stats, verbose=True)\n",
    "\n",
    "best_individual = tools.selBest(population, 1)[0]\n",
    "print(\"Mejor solución encontrada: \", best_individual)\n",
    "print(\"Distancia total de la mejor solución: \", best_individual.fitness.values[0])\n"
   ]
  },
  {
   "cell_type": "markdown",
   "metadata": {},
   "source": [
    "Visualización de la Ruta"
   ]
  },
  {
   "cell_type": "code",
   "execution_count": 7,
   "metadata": {},
   "outputs": [],
   "source": [
    "def plot_route(individual, customers, depot_location=(0, 0)):\n",
    "    # Convertir la ruta en coordenadas\n",
    "    route = [depot_location] + [customers[c-1] for c in individual if c != 0] + [depot_location]\n",
    "    route = np.array(route)\n",
    "\n",
    "    # Crear la gráfica\n",
    "    plt.figure(figsize=(10, 6))\n",
    "    plt.plot(route[:, 0], route[:, 1], marker='o')\n",
    "\n",
    "    # Anotar los clientes y el depósito\n",
    "    for i, (x, y) in enumerate(route):\n",
    "        plt.text(x, y, f' {i}' if i != 0 else ' Depot', fontsize=12)\n",
    "\n",
    "    plt.title('Visualización de la Ruta')\n",
    "    plt.xlabel('Coordenada X')\n",
    "    plt.ylabel('Coordenada Y')\n",
    "    plt.grid(True)\n",
    "    plt.show()"
   ]
  },
  {
   "cell_type": "code",
   "execution_count": 8,
   "metadata": {},
   "outputs": [
    {
     "data": {
      "image/png": "[encoded data removed]",
      "text/plain": [
       "<Figure size 1000x600 with 1 Axes>"
      ]
     },
     "metadata": {},
     "output_type": "display_data"
    }
   ],
   "source": [
    "# Ejecutar la función de visualización con la mejor solución encontrada\n",
    "plot_route(best_individual, customers, depot_location=(0, 0))"
   ]
  },
  {
   "cell_type": "markdown",
   "metadata": {},
   "source": [
    "____\n",
    "#### Conclusión y Observaciones\n",
    "\n",
    "*Resultados*\n",
    "\n",
    "Después de 100 generaciones de evolución, el algoritmo genético ha encontrado una solución óptima o cerca de la óptima para el problema planteado. La mejor solución encontrada tiene una distancia total de aproximadamente 31.1 unidades. Esta solución representa la secuencia de clientes a visitar que minimiza la distancia total recorrida, considerando las restricciones y la capacidad del vehículo.\n",
    "\n",
    "*Observaciones*\n",
    "\n",
    "1. **Convergencia**: Basándonos en los valores mínimos y promedio por generación, se puede observar que el algoritmo converge hacia una solución óptima. Esto es una buena señal de que los operadores genéticos y los parámetros seleccionados están trabajando de manera efectiva.\n",
    "\n",
    "2. **Diversidad**: Aunque el algoritmo está convergiendo, también es importante notar que la diversidad (variedad de soluciones) se mantiene a lo largo de las generaciones. Esto es crucial para evitar caer en óptimos locales y asegurarse de explorar adecuadamente el espacio de soluciones.\n",
    "\n",
    "3. **Selección de Parámetros**: Los parámetros como el tamaño de la población, la probabilidad de cruzamiento (cxpb) y la probabilidad de mutación (mutpb) son cruciales para el desempeño del algoritmo. Una selección adecuada de estos parámetros puede llevar a una convergencia más rápida y a soluciones más precisas.\n",
    "\n",
    "4. **Efectividad de los Operadores Genéticos**: Los operadores de cruzamiento y mutación seleccionados son adecuados para el tipo de codificación y problema abordado. Esto se refleja en la mejora constante de las soluciones a lo largo de las generaciones.\n",
    "\n",
    "5. **Estabilidad**: El algoritmo muestra una tendencia estable hacia la mejora, sin presentar fluctuaciones significativas en el valor de la función objetivo. Esto indica que el equilibrio entre exploración y explotación es adecuado.\n",
    "\n",
    "*Conclusión*\n",
    "\n",
    "El uso de algoritmos genéticos ha demostrado ser una herramienta poderosa para la optimización de problemas complejos y combinatorios. A través de la evolución y selección natural, es posible encontrar soluciones óptimas o cercanas a la óptima de manera eficiente. En este caso particular, se ha aplicado con éxito para optimizar la ruta de un vehículo, minimizando la distancia total recorrida y respetando las restricciones de capacidad.\n",
    "\n",
    "El experimento también destaca la importancia de una buena definición de la función de aptitud, operadores genéticos y parámetros del algoritmo, ya que estos elementos son clave para el éxito de la optimización."
   ]
  },
  {
   "cell_type": "markdown",
   "metadata": {},
   "source": [
    "#### Referencias:"
   ]
  },
  {
   "cell_type": "markdown",
   "metadata": {},
   "source": []
  }
 ],
 "metadata": {
  "kernelspec": {
   "display_name": "Python 3",
   "language": "python",
   "name": "python3"
  },
  "language_info": {
   "codemirror_mode": {
    "name": "ipython",
    "version": 3
   },
   "file_extension": ".py",
   "mimetype": "text/x-python",
   "name": "python",
   "nbconvert_exporter": "python",
   "pygments_lexer": "ipython3",
   "version": "3.11.0"
  }
 },
 "nbformat": 4,
 "nbformat_minor": 2
}
